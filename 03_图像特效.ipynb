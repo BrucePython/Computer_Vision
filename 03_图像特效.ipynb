{
 "cells": [
  {
   "cell_type": "markdown",
   "metadata": {},
   "source": [
    "# 图像特效：\n",
    "\n",
    "- 特效1：灰度处理\n",
    "- 特效2：底板效果\n",
    "- 特效3：马赛克\n",
    "- 特效4：毛玻璃效果\n",
    "- 特效5：图像融合\n",
    "- 特效6：图片蓝色\n",
    "- 特效7：边缘检测\n",
    "- 特效8：浮雕效果\n",
    "\n",
    "\n",
    "- 学习步骤：\n",
    "    1. API调用\n",
    "    2. 图像特效实现的基本算法原理\n",
    "    3. 源码的形式，根据算法原理实现图像特效"
   ]
  },
  {
   "cell_type": "code",
   "execution_count": 17,
   "metadata": {},
   "outputs": [],
   "source": [
    "import cv2\n",
    "import numpy as np\n",
    "import math\n",
    "\n",
    "img = cv2.imread(\"./eunha.jpg\",1)\n",
    "\n",
    "height = img.shape[0]\n",
    "width = img.shape[1]\n",
    "channel = img.shape[2]"
   ]
  },
  {
   "cell_type": "markdown",
   "metadata": {},
   "source": [
    "# 1. 图片的灰度处理\n",
    "\n",
    "- 灰度，最重要\n",
    "\n",
    "- 图像检测，以灰度图像作为基础\n",
    "    - 图像的边缘检测\n",
    "    - 人脸检测\n",
    "    - 行人识别\n",
    "\n",
    "- 算法的实时性\n",
    "    - 计算机视觉都是实时处理，所以【算法优化】很重要"
   ]
  },
  {
   "cell_type": "code",
   "execution_count": 2,
   "metadata": {},
   "outputs": [],
   "source": [
    "# 方法一：imread\n",
    "gray_imread = cv2.imread(\"./eunha.jpg\",0)\n",
    "cv2.imshow(\"1. gray_imread\", gray_imread)\n",
    "\n",
    "\n",
    "\n",
    "# 方法二：颜色空间转换\n",
    "gray_cvt = cv2.cvtColor(img, cv2.COLOR_BGR2GRAY)    # 参数1：原图数据data，参数2：转换方式bgr-gray\n",
    "cv2.imshow(\"2. gray_cvt\", gray_cvt)\n",
    "\n",
    "\n",
    "\n",
    "# 方法三：通过算法原理，使用源码实现灰度处理\n",
    "# r=g=b=gray; gray = (b+g+r)/3 避免溢出\n",
    "\n",
    "gray_code = np.zeros(img.shape, np.uint8)    # 新建模板\n",
    "\n",
    "for i in range(0, height):\n",
    "    for j in range(0, width):\n",
    "        b,g,r = img[i,j]    # 读取每个像素点的像素值\n",
    "        # 先转换成int类型，防止计算时出现越界\n",
    "        gray = (int(b)+int(g)+int(r)) / 3\n",
    "        gray_code[i,j] = np.uint8(gray)\n",
    "        # dst[i,j] = (int(b)+int(g)+int(r)) / 3\n",
    "cv2.imshow(\"3. gray_coding\", gray_code)\n",
    "\n",
    "\n",
    "\n",
    "# 方法四：心理学公式\n",
    "# Gray = R*0.299 + G*0.587 + B*0.114\n",
    "\n",
    "gray_psy = np.zeros(img.shape, np.uint8)    # 新建模板\n",
    "\n",
    "for i in range(0, height):\n",
    "    for j in range(0, width):\n",
    "        b,g,r = img[i,j]\n",
    "        # 先转换成int类型，防止计算时出现越界\n",
    "        b = int(b)\n",
    "        g = int(g)\n",
    "        r = int(r)\n",
    "        # gray = b*0.114 + g*0.587 + g*0.299\n",
    "        # 优化算法，定点运算 > 浮点运算\n",
    "        gray = (b*1 + g*2 + g*1)/4\n",
    "        gray_psy[i,j] = np.uint8(gray)\n",
    "\n",
    "cv2.imshow(\"4. gray_psy\", gray_psy)\n",
    "\n",
    "\n",
    "\n",
    "cv2.imshow(\"Original\", img)\n",
    "cv2.waitKey(5000)\n",
    "cv2.destroyAllWindows()"
   ]
  },
  {
   "cell_type": "markdown",
   "metadata": {},
   "source": [
    "# 2. 算法优化\n",
    "\n",
    "- 定点运算 > 浮点运算\n",
    "- +/- > x/÷\n",
    "    - 乘以的数越大，误差越小\n",
    "- 移位操作 > x/÷\n",
    "    - 放大2倍(x2)：左移1位(<<1)\n",
    "    - 缩小4倍(÷4)：右移2位(>>2)\n",
    "- 实现图片灰度图像的优化\n",
    "    - 原始：\n",
    "        > gray = b*0.114 + g*0.587 + g*0.299\n",
    "    - 优化算法：浮点运算 -> 定点运算 \n",
    "        > gray = (b*1 + g*2 + g*1)/4\n",
    "    - 优化算法：定点运算 -> 移位运算\n",
    "        > gray = (b + (g<<1) + g*1)>>2       "
   ]
  },
  {
   "cell_type": "code",
   "execution_count": 3,
   "metadata": {},
   "outputs": [],
   "source": [
    "for i in range(0, height):\n",
    "    for j in range(0, width):\n",
    "        b,g,r = img[i,j]\n",
    "        # 先转换成int类型，防止计算时出现越界\n",
    "        b = int(b)\n",
    "        g = int(g)\n",
    "        r = int(r)\n",
    "        # gray = b*0.114 + g*0.587 + g*0.299\n",
    "        # gray = (b*1 + g*2 + g*1)/4      # 优化算法：浮点运算 -> 定点运算  \n",
    "        gray = (b + (g<<1) + g*1)>>2      # 优化算法：定点运算 -> 移位运算\n",
    "        gray_psy[i,j] = np.uint8(gray)\n",
    "\n",
    "cv2.imshow(\"optimization_psy\", gray_psy)\n",
    "cv2.waitKey(5000)\n",
    "cv2.destroyAllWindows()"
   ]
  },
  {
   "cell_type": "markdown",
   "metadata": {},
   "source": [
    "# 3. 图片颜色反转\n",
    "\n",
    "- 灰色图片的颜色反转：\n",
    "    - 反转灰度值 = 255 - 当前灰度值\n",
    "\n",
    "- 彩色图片的颜色反转：\n",
    "    - 反转b/g/r值 = 255 - 当前b/g/r值"
   ]
  },
  {
   "cell_type": "code",
   "execution_count": 4,
   "metadata": {},
   "outputs": [],
   "source": [
    "# 灰色图片的颜色反转：\n",
    "# 反转灰度值 = 255 - 当前灰度值\n",
    "\n",
    "gray_reverse = np.zeros((height,width,1), np.uint8)\n",
    "\n",
    "for i in range(0, height):\n",
    "    for j in range(0, width):\n",
    "        gray_scale = gray_cvt[i,j]\n",
    "        gray_reverse[i,j] = 255 - gray_scale\n",
    "\n",
    "\n",
    "# 彩色图片的颜色反转：\n",
    "# 反转b/g/r值 = 255 - 当前b/g/r值\n",
    "\n",
    "img_reverse = np.zeros(img.shape, np.uint8)\n",
    "\n",
    "for i in range(0, height):\n",
    "    for j in range(0, width):\n",
    "        b,g,r = img[i,j]\n",
    "        img_reverse[i,j] = (255-b, 255-g, 255-r)\n",
    "        \n",
    "        \n",
    "\n",
    "cv2.imshow(\"gray_reverse\", gray_reverse)\n",
    "cv2.imshow(\"img_reverse\", img_reverse)\n",
    "cv2.waitKey(5000)\n",
    "cv2.destroyAllWindows()"
   ]
  },
  {
   "cell_type": "markdown",
   "metadata": {},
   "source": [
    "# 4. 马赛克效果\n",
    "\n",
    "- 用10x10矩形方块中的左上角的一个像素点，替换掉10x10中的100个像素点，让这100个像素保持一致"
   ]
  },
  {
   "cell_type": "code",
   "execution_count": 5,
   "metadata": {},
   "outputs": [],
   "source": [
    "# 遍历马赛克效果范围内的所有像素点\n",
    "img_mosaic = img.copy()\n",
    "for m in range(385,503):\n",
    "    for n in range(222,345):\n",
    "        if m%10==0 and n%10==0:    # 每隔10个宽高的矩形，取一个像素点\n",
    "            b,g,r = img[m,n]\n",
    "            for i in range(0,10):\n",
    "                for j in range(0,10):\n",
    "                    img_mosaic[i+m,j+n] = (b,g,r)\n",
    "                    \n",
    "cv2.imshow(\"img_mosaic\", img_mosaic)\n",
    "cv2.waitKey(5000)\n",
    "cv2.destroyAllWindows()"
   ]
  },
  {
   "cell_type": "markdown",
   "metadata": {},
   "source": [
    "# 5. 毛玻璃效果\n",
    "\n",
    "- 在特定矩阵中【随机】选取一个像素点，替换掉特定矩阵中所有的像素点"
   ]
  },
  {
   "cell_type": "code",
   "execution_count": 6,
   "metadata": {},
   "outputs": [],
   "source": [
    "import random\n",
    "dst = np.zeros((img.shape), np.uint8)\n",
    "\n",
    "for i in range(0, height-8):    # 有可能超出图片的范围，所以要减去随机数的最大值\n",
    "    for j in range(0, width-8):\n",
    "        random_int = random.randint(0,8)     # 0-8之间的随机数\n",
    "        (b,g,r) = img[i + random_int, j + random_int]\n",
    "        dst[i,j] = (b,g,r)\n",
    "        \n",
    "        \n",
    "# 图片最右边和最下边会有黑边，是因为-8后，没有操作图片，0填充\n",
    "cv2.imshow(\"woolen_glass\", dst)\n",
    "cv2.waitKey(5000)\n",
    "cv2.destroyAllWindows()        "
   ]
  },
  {
   "cell_type": "markdown",
   "metadata": {},
   "source": [
    "# 6. 图片融合\n",
    "\n",
    "- 每张图片，乘以比例系数，然后相加\n",
    "    - dst = img1 * alpha + img2 * (1-alpha)\n",
    "        - alpha系数，0.3\n",
    "        \n",
    "- 融合的图片，大小一致\n"
   ]
  },
  {
   "cell_type": "code",
   "execution_count": 34,
   "metadata": {},
   "outputs": [],
   "source": [
    "img1 = cv2.imread(\"./sinb.jpg\",1)\n",
    "\n",
    "dst = np.zeros(img.shape, np.uint8)\n",
    "# 权重相加：\n",
    "dst = cv2.addWeighted(img,0.5,img1,0.5,0)\n",
    "# 参数1：原图数据1\n",
    "# 参数2：alpha参数\n",
    "# 参数1：原图数据2\n",
    "# 参数2：1 - alpha参数\n",
    "\n",
    "\n",
    "# ROI\n",
    "roiH = int(height/2)\n",
    "roiW = int(width/2)\n",
    "img0ROI = img[385:503, 222:345]\n",
    "img1ROI = img1[385:503, 222:345]\n",
    "dst_roi = np.zeros((roiH, roiW, 3), np.uint8)\n",
    "dst_roi = cv2.addWeighted(img0ROI,0.5,img1ROI,0.5,0)\n",
    "\n",
    "\n",
    "cv2.imshow(\"merge_all\", dst)\n",
    "cv2.imshow(\"merge_roi\", dst_roi)\n",
    "\n",
    "\n",
    "cv2.waitKey(5000)\n",
    "cv2.destroyAllWindows() "
   ]
  },
  {
   "cell_type": "markdown",
   "metadata": {},
   "source": [
    "# 7. 边缘检测\n",
    "\n",
    "- 原理：图像的卷积运算\n",
    "- 步骤：\n",
    "    - 把彩色图转成灰度图\n",
    "    - 高斯滤波\n",
    "    - canny方法，完成边缘检测"
   ]
  },
  {
   "cell_type": "code",
   "execution_count": 8,
   "metadata": {},
   "outputs": [],
   "source": [
    "# 1. 转换成灰度图：gray_cvt\n",
    "# 2. 高斯滤波\n",
    "imgG = cv2.GaussianBlur(gray_cvt,(3,3),0)\n",
    "\n",
    "# 3. 调用canny方法\n",
    "dst = cv2.Canny(img,50,50)\n",
    "# 参数1：图片的数据\n",
    "# 参数2：门线，图片经过卷积之后的值，如果大于门线值，那么就认为是边缘检测\n",
    "\n",
    "cv2.imshow(\"canny\", dst)\n",
    "\n",
    "cv2.waitKey(5000)\n",
    "cv2.destroyAllWindows()"
   ]
  },
  {
   "cell_type": "markdown",
   "metadata": {},
   "source": [
    "# 7.1 sobel算法原理：\n",
    "\n",
    "- sobel算子\n",
    "    - 也叫 Sobel 滤波, 是两个 3*3 的矩阵, 主要用来计算图像中某一点在横向/纵向上的梯度\n",
    "    - 相当于2个携带固定权重的卷积核\n",
    "    - 水平矩阵：[[-1,0,1],[-2,0,2],[-1,0,1]]\n",
    "    - 竖直矩阵：[[-1,-2,-1],[0,0,0],[1,2,1]]\n",
    "    \n",
    "- 使用sobel算子与图片进行卷积运算，得到一个值。若此值大于门线值，则是边缘；小于门线值则是非边缘\n",
    "\n",
    "- 计算：\n",
    "    - 水平方向：gx = [[-1,0,1],[-2,0,2],[-1,0,1]] * gray_pic\n",
    "    - 竖直方向：gx = [[-1,-2,-1],[0,0,0],[1,2,1]] * gray_pic\n"
   ]
  },
  {
   "cell_type": "code",
   "execution_count": 24,
   "metadata": {},
   "outputs": [],
   "source": [
    "dst_sobal = np.zeros((height,width,1),np.uint8)\n",
    "\n",
    "for i in range(0, height - 2):    # 3x3 sobel算子，防止卷积核溢出。由于最大下标是[2]，所以高宽-2\n",
    "    for j in range(0, width - 2): \n",
    "        gy = gray_cvt[i,j]*(-1) + gray_cvt[i,j+1]*(-2) + gray_cvt[i,j+2]*(-1) + gray_cvt[i+2,j]*1 + gray_cvt[i+2,j+1]*2 + gray_cvt[i+2,j+2]*1    # 竖直方向的梯度\n",
    "        gx = gray_cvt[i,j]*(-1) + gray_cvt[i,j+2]*1 + gray_cvt[i+1,j]*(-2) + gray_cvt[i+1,j+2]*2 + gray_cvt[i+2,j]*(-1) + gray_cvt[i+2,j+2]*1    # 水平方向的梯度\n",
    "        \n",
    "        grad = math.sqrt(gx*gx + gy*gy)    # 梯度\n",
    "            \n",
    "        if grad > 50:    # 50为门线值，大于50则是边缘，小于50则是非边缘\n",
    "            dst_sobal[i,j] = 255\n",
    "        else:\n",
    "            dst_sobal[i,j] = 0\n",
    "\n",
    "cv2.imshow(\"sobel\", dst_sobal)\n",
    "cv2.waitKey(5000)\n",
    "cv2.destroyAllWindows()            "
   ]
  },
  {
   "cell_type": "markdown",
   "metadata": {},
   "source": [
    "# 8. 浮雕效果\n",
    "\n",
    "- 原理：\n",
    "    - newP = gray0 - gray1 + 150\n",
    "        - 相邻像素的相减，是为了突出灰度的突变，即边缘特征\n",
    "        - +150是为了增强图片浮雕效果的灰度等级\n"
   ]
  },
  {
   "cell_type": "code",
   "execution_count": 30,
   "metadata": {},
   "outputs": [],
   "source": [
    "dst_cameo = np.zeros((height,width,1),np.uint8)\n",
    "\n",
    "\n",
    "for i in range(0,height):\n",
    "    for j in range(0,width-1):    # 因为纵坐标+1，所以循环遍历的宽度要-1。否则数组(矩阵)越界\n",
    "        current_pixel = int(gray_cvt[i,j])    # 当前像素，数据处理过程中，可能超过0-255，所以先强制转换\n",
    "        next_pixel = int(gray_cvt[i,j+1])    # 下一个像素\n",
    "        new_pixel = current_pixel - next_pixel + 150\n",
    "        new_pixel = np.where(new_pixel>255, 255, new_pixel)\n",
    "        new_pixel = np.where(new_pixel<0, 0, new_pixel)\n",
    "        dst_cameo[i,j] = new_pixel\n",
    "        \n",
    "        \n",
    "cv2.imshow(\"cameo\", dst_cameo)\n",
    "cv2.waitKey(5000)\n",
    "cv2.destroyAllWindows()"
   ]
  },
  {
   "cell_type": "markdown",
   "metadata": {},
   "source": [
    "# 9. 颜色风格\n",
    "\n",
    "- 颜色的映射变换，实现不同的风格效果\n",
    "\n",
    "    1. 颜色映射公式\n",
    "        - 方便使用\n",
    "        - 不方便拟合颜色\n",
    "    2. 创建rgb查找表：\n",
    "        - 用新的rgb代替旧的rgb"
   ]
  },
  {
   "cell_type": "code",
   "execution_count": 33,
   "metadata": {},
   "outputs": [],
   "source": [
    "# 让图片的蓝色更蓝：b=b*1.5，g=g*1.3\n",
    "\n",
    "dst_colorStyle = np.zeros_like(img)\n",
    "\n",
    "for i in range(0, height):\n",
    "    for j in range(0, width):\n",
    "        (b,g,r) = img[i,j]\n",
    "        b = b * 1.5\n",
    "#         g = g * 1.3\n",
    "        b = np.where(b>255,255,0)\n",
    "#         g = np.where(g>255,255,0)\n",
    "        dst_colorStyle[i,j] = (b,g,r)\n",
    "        \n",
    "cv2.imshow(\"original\", img)\n",
    "cv2.imshow(\"enhancBlue\", dst_colorStyle)\n",
    "cv2.waitKey(5000)\n",
    "cv2.destroyAllWindows()"
   ]
  },
  {
   "cell_type": "markdown",
   "metadata": {},
   "source": [
    "# 油画效果\n",
    "\n",
    "- 步骤：\n",
    "    1. 转化成灰度\n",
    "    2. 将图片分割成若干个小方块(7x7,10x10)，统计小方块中，每个像素的灰度值\n",
    "    3. 将0-255分几个灰度段，并将第2步的灰度值，映射到每个灰度段中\n",
    "    4. 找到数量最多的灰度段，求出均值。完成灰度段中，像素的个数统计\n",
    "    5. 用统计出来的平均值，代替原来的像素值，实现优化效果"
   ]
  },
  {
   "cell_type": "code",
   "execution_count": 47,
   "metadata": {},
   "outputs": [
    {
     "name": "stdout",
     "output_type": "stream",
     "text": [
      "耗时： 393.08250093460083\n"
     ]
    }
   ],
   "source": [
    "# 运算量大\n",
    "\n",
    "\n",
    "# 定义8个灰度段，每段等级差为32\n",
    "# 256/8 = 32; 0-31, 32-63, 64-95, 96-127……\n",
    "\n",
    "# 定义8x8的小方块\n",
    "\n",
    "# 当前的像素值，完成了累加\n",
    "\n",
    "import time\n",
    "\n",
    "img = cv2.imread(\"/Users/zhengtaizhong/Desktop/pic.jpg\",1)\n",
    "height = img.shape[0]\n",
    "width = img.shape[1]\n",
    "gray_cvt = cv2.cvtColor(img,cv2.COLOR_BGR2GRAY)\n",
    "\n",
    "dst_canvas = np.zeros((height,width,3), np.uint8)\n",
    "\n",
    "time1 = time.time()\n",
    "for i in range(4,height-4):\n",
    "    for j in range(4, width-4):\n",
    "        \n",
    "        gray_interval = np.zeros(8,np.uint8)    # 定义8个灰度段，0-7\n",
    "        for m in range(-4,4):\n",
    "            for n in range(-4,4):\n",
    "                p1 = int(gray_cvt[i+m, j+n]/32)    # 当前像素属于哪一个灰度段\n",
    "                gray_interval[p1] = gray_interval[p1] + 1     # 在8个灰度段(0-7)中，【统计】像素数量最多的灰度段\n",
    "        \n",
    "        # 在8个灰度段中，【获取】像素数最多的灰度段\n",
    "        max_amount = gray_interval[0]\n",
    "        l = 0    # 灰度段下标\n",
    "        for k in range(0,8):\n",
    "            if max_amount < gray_interval[k]:\n",
    "                max_amount = gray_interval[k]\n",
    "                l = k    # 当前的像素处于的灰度段\n",
    "        \n",
    "        # 简化：取出每块的最大值。正常：平均值\n",
    "        for m in range(-4,4):\n",
    "            for n in range(-4,4):\n",
    "                if gray_cvt[i+m, j+n] >= (l*32) and gray_cvt[i+m, j+n] <= ((l+1)*32):\n",
    "                    (b,g,r) = img[i+m,j+m]\n",
    "        \n",
    "        dst_canvas[i,j] = (b,g,r)\n",
    "        \n",
    "time2 = time.time()\n",
    "print(\"耗时：\", time2-time1)\n",
    "\n",
    "cv2.imshow(\"orignal\", img)\n",
    "cv2.imshow(\"canvas\", dst_canvas)\n",
    "cv2.waitKey(5000)\n",
    "cv2.destroyAllWindows()"
   ]
  },
  {
   "cell_type": "code",
   "execution_count": null,
   "metadata": {},
   "outputs": [],
   "source": []
  }
 ],
 "metadata": {
  "kernelspec": {
   "display_name": "Python 3",
   "language": "python",
   "name": "python3"
  },
  "language_info": {
   "codemirror_mode": {
    "name": "ipython",
    "version": 3
   },
   "file_extension": ".py",
   "mimetype": "text/x-python",
   "name": "python",
   "nbconvert_exporter": "python",
   "pygments_lexer": "ipython3",
   "version": "3.6.6"
  }
 },
 "nbformat": 4,
 "nbformat_minor": 2
}
