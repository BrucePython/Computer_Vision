{
 "cells": [
  {
   "cell_type": "markdown",
   "metadata": {},
   "source": [
    "# 形状绘制\n",
    "- 形状\n",
    "    - 线段，矩形，圆形，三角形，任意多边形\n",
    "- 文字\n",
    "\n",
    "- 图片 "
   ]
  },
  {
   "cell_type": "code",
   "execution_count": 15,
   "metadata": {},
   "outputs": [],
   "source": [
    "import cv2\n",
    "import numpy as np\n",
    "\n",
    "img = cv2.imread(\"./eunha.jpg\",1)"
   ]
  },
  {
   "cell_type": "markdown",
   "metadata": {},
   "source": [
    "# 1. 线段绘制\n",
    "\n",
    "- API:\n",
    "    - cv2.line()\n",
    "        - 参数1：目标图片数据\n",
    "        - 参数2：线段绘制的起始位置\n",
    "        - 参数3：线段绘制的终止位置\n",
    "        - 参数4：颜色 color bgr\n",
    "        - 参数5：线段宽度\n",
    "        - 参数6：线段类型,type，例：防锯齿化 "
   ]
  },
  {
   "cell_type": "code",
   "execution_count": 4,
   "metadata": {},
   "outputs": [],
   "source": [
    "dst_line = np.zeros((500,500,3), np.uint8)\n",
    "\n",
    "cv2.line(dst_line, (100,100), (400,400), (0,0,255))\n",
    "\n",
    "cv2.line(dst_line, (100,200), (400,200), (0,255,255), 20)\n",
    "\n",
    "cv2.line(dst_line, (100,300), (400,300), (0,255,0), 20, cv2.LINE_AA)    # type\n",
    "\n",
    "# 绘制三角形：\n",
    "# 三角形第一条边的终止位置，是第二条边的起始位置。第三条线段的终止位置，是第一条线段的起始位置\n",
    "cv2.line(dst_line, (200,150), (50,250), (25,100,255))\n",
    "cv2.line(dst_line, (50,250), (400,380), (25,100,255))\n",
    "cv2.line(dst_line, (400,380), (200,150), (25,100,255))\n",
    "\n",
    "cv2.imshow(\"line\", dst_line)\n",
    "cv2.waitKey(5000)\n",
    "cv2.destroyAllWindows()"
   ]
  },
  {
   "cell_type": "markdown",
   "metadata": {},
   "source": [
    "# 2. 矩形圆形绘制\n",
    "\n",
    "- 矩形绘制API：cv2.rectangle()\n",
    "    - 参数1：目标图片数据\n",
    "    - 参数2：矩形左上角的起始点\n",
    "    - 参数3：右下角\n",
    "    - 参数4：颜色\n",
    "    - 参数5：是否填充矩形框中的内容，\n",
    "        - -1表示是填充\n",
    "        - 若大于0，值越大，线条越粗\n",
    "\n",
    "- 圆形绘制API：cv2.circle()\n",
    "    - 参数1：目标图片数据\n",
    "    - 参数2：圆心\n",
    "    - 参数3：半径\n",
    "    - 参数4：颜色\n",
    "    - 参数5：是否填充矩形框中的内容，\n",
    "        - -1表示是全填充\n",
    "        - 若大于0，值越大，线条越粗\n",
    "\n",
    "-  椭圆形绘制API：cv2.ellipse()\n",
    "    - 参数1：目标图片数据\n",
    "    - 参数2：圆心\n",
    "    - 参数3：轴长：(长轴，短轴)\n",
    "    - 参数4：偏转角度\n",
    "    - 参数5：圆弧的起始角度\n",
    "    - 参数6：圆弧的终止角度\n",
    "    - 参数7：颜色\n",
    "    - 参数8：是否填充矩形框中的内容，\n",
    "        - -1表示是全填充\n",
    "        - 若大于0，值越大，线条越粗\n",
    "        \n",
    " \n",
    "- 绘制任意多边形：\n",
    "    "
   ]
  },
  {
   "cell_type": "code",
   "execution_count": 6,
   "metadata": {},
   "outputs": [],
   "source": [
    "dst_rectangle = np.zeros((500,500,3),np.uint8)\n",
    "dst_circle = np.zeros((500,500,3),np.uint8)\n",
    "dst_ellipse = np.zeros((500,500,3),np.uint8)\n",
    "dst_poly = np.zeros((500,500,3),np.uint8)\n",
    "\n",
    "\n",
    "# cv2.rectangle(dst_rectangle, (50,100), (200,300), (255,0,0), -1)\n",
    "cv2.rectangle(dst_rectangle, (50,100), (200,300), (255,0,0), 5)\n",
    "cv2.circle(dst_circle, (250,250), (50), (0,255,0),2)\n",
    "cv2.ellipse(dst_ellipse, (256,256), (150,100),0,0,180, (255,255,0), -1)\n",
    "\n",
    "\n",
    "points = np.array([[150,50],[140,140],[200,170],[250,250],[150,50]])    # (5,2)\n",
    "points.reshape((-1,1,2))    # 维度转换 (5,1,2)\n",
    "cv2.polylines(dst_poly, [points], True, (0,255,255))    #如果去掉中括号，只是画四个点\n",
    "\n",
    "\n",
    "# cv2.imshow(\"rectangle\", dst_rectangle)\n",
    "# cv2.imshow(\"circle\", dst_circle)\n",
    "# cv2.imshow(\"ellipse\", dst_ellipse)\n",
    "cv2.imshow(\"polylines\", dst_poly)\n",
    "\n",
    "cv2.waitKey(5000)\n",
    "cv2.destroyAllWindows()"
   ]
  },
  {
   "cell_type": "code",
   "execution_count": 11,
   "metadata": {},
   "outputs": [
    {
     "name": "stdout",
     "output_type": "stream",
     "text": [
      "[[150  50]\n",
      " [140 140]\n",
      " [200 170]\n",
      " [250 250]\n",
      " [150  50]]\n",
      "********\n",
      "[[[150  50]]\n",
      "\n",
      " [[140 140]]\n",
      "\n",
      " [[200 170]]\n",
      "\n",
      " [[250 250]]\n",
      "\n",
      " [[150  50]]]\n"
     ]
    }
   ],
   "source": [
    "a = np.array([[150,50],[140,140],[200,170],[250,250],[150,50]])\n",
    "b = a.reshape((-1,1,2))\n",
    "print(a)\n",
    "print(\"********\")\n",
    "print(b)"
   ]
  },
  {
   "cell_type": "markdown",
   "metadata": {},
   "source": [
    "# 3. 文字图片绘制\n",
    "\n",
    "- 文字绘制API：cv2.putText()\n",
    "\n",
    "    - 参数1：目标图片数据\n",
    "    - 参数2：文字内容\n",
    "    - 参数3：起始坐标\n",
    "    - 参数4：字体\n",
    "    - 参数5：字体大小\n",
    "    - 参数6：字体颜色\n",
    "    - 参数7：字体粗细\n",
    "    - 参数8：线条类型，line type"
   ]
  },
  {
   "cell_type": "code",
   "execution_count": 16,
   "metadata": {},
   "outputs": [],
   "source": [
    "img0 = img.copy()\n",
    "\n",
    "font = cv2.FONT_HERSHEY_SIMPLEX\n",
    "text = \"I LOVE U\"\n",
    "\n",
    "cv2.rectangle(dst_rectangle,(200,100),(500,400),(0,255,0),3)\n",
    "cv2.putText(img0, text, (80,350), font, 1, (200,100,255),2, cv2.LINE_AA)\n",
    "\n",
    "cv2.imshow(\"text\", img0)\n",
    "cv2.waitKey(5000)\n",
    "cv2.destroyAllWindows()"
   ]
  },
  {
   "cell_type": "code",
   "execution_count": 19,
   "metadata": {},
   "outputs": [],
   "source": [
    "# 图片绘制\n",
    "\n",
    "img1 = img.copy()\n",
    "\n",
    "height = int(img1.shape[0]*0.2)\n",
    "width = int(img1.shape[1]*0.2)\n",
    "img_resize = cv2.resize(img1,(width, height))\n",
    "\n",
    "for i in range(0, height):\n",
    "    for j in range(0, width):\n",
    "        img1[i+10, j+20] = img_resize[i,j]\n",
    "        \n",
    "cv2.imshow(\"pic\", img1)\n",
    "cv2.waitKey(5000)\n",
    "cv2.destroyAllWindows()"
   ]
  },
  {
   "cell_type": "code",
   "execution_count": null,
   "metadata": {},
   "outputs": [],
   "source": []
  },
  {
   "cell_type": "code",
   "execution_count": null,
   "metadata": {},
   "outputs": [],
   "source": []
  }
 ],
 "metadata": {
  "kernelspec": {
   "display_name": "Python 3",
   "language": "python",
   "name": "python3"
  },
  "language_info": {
   "codemirror_mode": {
    "name": "ipython",
    "version": 3
   },
   "file_extension": ".py",
   "mimetype": "text/x-python",
   "name": "python",
   "nbconvert_exporter": "python",
   "pygments_lexer": "ipython3",
   "version": "3.6.6"
  }
 },
 "nbformat": 4,
 "nbformat_minor": 2
}
