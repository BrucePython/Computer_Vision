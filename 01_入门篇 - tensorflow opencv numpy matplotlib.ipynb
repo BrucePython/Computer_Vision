{
 "cells": [
  {
   "cell_type": "markdown",
   "metadata": {},
   "source": [
    "- OpenCV是由一系列的源代码组成，每几个源代码组成一个模块，若干个模块构成了整个OpenCV\n",
    "- TensorFlow是谷歌开源的框架，主要依靠张量和数据图进行计算"
   ]
  },
  {
   "cell_type": "markdown",
   "metadata": {},
   "source": [
    "# OpenCV"
   ]
  },
  {
   "cell_type": "markdown",
   "metadata": {},
   "source": [
    "## 1. 图片读取与展示"
   ]
  },
  {
   "cell_type": "code",
   "execution_count": 3,
   "metadata": {},
   "outputs": [],
   "source": [
    "import cv2\n",
    "\n",
    "# 1.文件读取；2.封装格式(jpg,png)解析；3.数据解码；\n",
    "img = cv2.imread(\"pic.jpg\",1)    # 参数1：读取图片所在地址，参数2：图片读取的类型：0为灰度图，1为彩色图\n",
    "# 此时img为图片的原始数据\n",
    "\n",
    "# 文件头：数据部分的解码信息，以及附加信息\n",
    "# 文件数据：并不是图片的原始数据，而是图片进行【压缩编码】后的数据\n",
    "# 解码器：根据图像的文件头信息，还原出文件的原始数据\n",
    "# 压缩编码：方便存储和传输\n",
    "# 文件需要压缩编码，就需要文件头，对压缩编码的数据进行描述，以方便解码器，根据当前的描述参数完成对于文件压缩数据的解析\n",
    "\n",
    "# 4.数据加载\n",
    "cv2.imshow(\"image\", img)    # 参数1：窗口名称，参数2：要显示的图片\n",
    "cv2.waitKey(40)    # 完成程序的暂停\n",
    "cv2.destroyAllWindows()"
   ]
  },
  {
   "cell_type": "markdown",
   "metadata": {},
   "source": [
    "## 2. 图片写入和图像质量\n",
    "\n",
    "- 不同压缩比的图片保存\n",
    "- 压缩比：以牺牲图片质量为代价（有损压缩）"
   ]
  },
  {
   "cell_type": "code",
   "execution_count": 8,
   "metadata": {},
   "outputs": [
    {
     "data": {
      "text/plain": [
       "True"
      ]
     },
     "execution_count": 8,
     "metadata": {},
     "output_type": "execute_result"
    }
   ],
   "source": [
    "cv2.imwrite(\"pic1.jpg\",img, [cv2.IMWRITE_JPEG_QUALITY,0])    \n",
    "# 参数1：图片保存的名称，需要加上格式名，\n",
    "# 参数2：图片保存的数据（解码之后的数据，即图片的原始数据，data类型）\n",
    "# 参数3：对于jpg文件的压缩，可以控制当前图像的质量，范围是[0,100]。数值越小，压缩比越高，图像质量越差\n",
    "\n",
    "# png无损压缩，png还可以设置透明度\n",
    "cv2.imwrite(\"pic2.png\",img, [cv2.IMWRITE_PNG_COMPRESSION,9]) \n",
    "# 参数3：压缩比，范围[0,9]。数值越小，压缩比越低，图像质量越好"
   ]
  },
  {
   "cell_type": "markdown",
   "metadata": {},
   "source": [
    "## 3. 像素操作\n",
    "\n",
    "- 像素\n",
    "- 每个像素都由RGB组成\n",
    "- 颜色深度：\n",
    "    - 8bit:每一个通道的颜色深度，范围[0:255]\n",
    "    - rgb中，每一个颜色分量(颜色通道)，都有2^8种颜色。总共有256^3种颜色\n",
    "- 图片的高宽\n",
    "- 图片容量大小：\n",
    "    - 1.14M = 720*547*3*8bit / 8 (转成字节：B)\n",
    "- png图片还有alpha透明度分量\n",
    "- BGR\n",
    "- xy坐标：\n",
    "    - x：图片的宽和图片的列\n",
    "    - y：图片的高和图片的行"
   ]
  },
  {
   "cell_type": "code",
   "execution_count": 11,
   "metadata": {},
   "outputs": [
    {
     "name": "stdout",
     "output_type": "stream",
     "text": [
      "93 36 4\n",
      "[93 36  4]\n",
      "<class 'numpy.ndarray'>\n"
     ]
    }
   ],
   "source": [
    "# 像素值的读取\n",
    "# 读取一个具体的像素点（100，100）的像素值bgr（93 36 4）\n",
    "(b,g,r) = img[100,100]\n",
    "print(b,g,r)\n",
    "print(img[100,100])\n",
    "print(type(img[100,100]))"
   ]
  },
  {
   "cell_type": "code",
   "execution_count": null,
   "metadata": {},
   "outputs": [],
   "source": [
    "# 像素值的写入\n",
    "# 绘制蓝色直线：从第10行，第100列开始，到第110行，第100列结束\n",
    "for i in range(101):\n",
    "    img[10+i, 100] = [255,0,0]\n",
    "cv2.imshow(\"image_blue_line\", img)\n",
    "cv2.waitKey(1000)\n",
    "cv2.destroyAllWindows()"
   ]
  },
  {
   "cell_type": "markdown",
   "metadata": {},
   "source": [
    "# TensorFlow"
   ]
  },
  {
   "cell_type": "code",
   "execution_count": 1,
   "metadata": {},
   "outputs": [
    {
     "name": "stdout",
     "output_type": "stream",
     "text": [
      "b'hello world'\n"
     ]
    }
   ],
   "source": [
    "import tensorflow as tf\n",
    "hello = tf.constant(\"hello world\")\n",
    "\n",
    "with tf.Session() as sess:\n",
    "    print(sess.run(hello))"
   ]
  },
  {
   "cell_type": "code",
   "execution_count": 2,
   "metadata": {},
   "outputs": [
    {
     "name": "stdout",
     "output_type": "stream",
     "text": [
      "b'hello tensorflow'\n"
     ]
    }
   ],
   "source": [
    "hello = tf.constant(\"hello tensorflow\")\n",
    "sess = tf.Session()\n",
    "print(sess.run(hello))\n",
    "sess.close()"
   ]
  },
  {
   "cell_type": "markdown",
   "metadata": {},
   "source": [
    "## 1. 变量和常量的定义，基础数据类型的定义，变量的使用方法\n",
    "\n",
    "- 学习语言：\n",
    "    - 类比：语法，api，原理\n",
    "    - 基础数据类型，运算符，流程，字典，数组\n",
    "\n",
    "- tf本质：\n",
    "    - tf = tensor（数据） + graph（计算图）\n",
    "        - op 任何调用api操作：赋值，运算等\n",
    "        - graph 数据和操作的过程\n",
    "        - 必须在会话中运行，session相当于交互环境"
   ]
  },
  {
   "cell_type": "code",
   "execution_count": 3,
   "metadata": {},
   "outputs": [
    {
     "name": "stdout",
     "output_type": "stream",
     "text": [
      "Tensor(\"Const_2:0\", shape=(), dtype=int32)\n",
      "<tf.Variable 'var:0' shape=() dtype=int32_ref>\n"
     ]
    }
   ],
   "source": [
    "data1 = tf.constant(2,dtype=tf.int32)\n",
    "data2 = tf.Variable(10,name=\"var\")\n",
    "print(data1)\n",
    "print(data2)"
   ]
  },
  {
   "cell_type": "code",
   "execution_count": 4,
   "metadata": {},
   "outputs": [
    {
     "name": "stdout",
     "output_type": "stream",
     "text": [
      "2\n",
      "10\n"
     ]
    }
   ],
   "source": [
    "sess = tf.Session()\n",
    "# 在tf中，所有的变量都必须要使用session会话进行初始化\n",
    "init = tf.global_variables_initializer()    # 初始化变量\n",
    "\n",
    "\"\"\"\n",
    "print(sess.run(data1))\n",
    "sess.run(init)    # 所有变量都要先完成初始化之后，才能进行后续操作\n",
    "print(sess.run(data2))\n",
    "sess.close()      # 关闭会话\n",
    "\"\"\"\n",
    "\n",
    "with sess:\n",
    "    print(sess.run(data1))\n",
    "    sess.run(init)\n",
    "    print(sess.run(data2))"
   ]
  },
  {
   "cell_type": "markdown",
   "metadata": {},
   "source": [
    "## 2. 常用数据类型的四则运算\n",
    "\n",
    "- sess.run(tensor)\n",
    "\n",
    "- tensor.eval()"
   ]
  },
  {
   "cell_type": "code",
   "execution_count": 5,
   "metadata": {},
   "outputs": [
    {
     "name": "stdout",
     "output_type": "stream",
     "text": [
      "8\n",
      "4\n",
      "12\n",
      "3.0\n",
      "End!\n"
     ]
    }
   ],
   "source": [
    "# 常量与常量之间的四则运算\n",
    "data1 = tf.constant(6)\n",
    "data2 = tf.constant(2)\n",
    "\n",
    "dataAdd = tf.add(data1, data2)\n",
    "dataSub = tf.subtract(data1, data2)\n",
    "dataMul = tf.multiply(data1, data2)\n",
    "dataDiv = tf.divide(data1, data2)\n",
    "\n",
    "with tf.Session() as sess:\n",
    "    print(sess.run(dataAdd))\n",
    "    print(sess.run(dataSub))\n",
    "    print(sess.run(dataMul))\n",
    "    print(sess.run(dataDiv))\n",
    "print(\"End!\")"
   ]
  },
  {
   "cell_type": "code",
   "execution_count": 6,
   "metadata": {},
   "outputs": [
    {
     "name": "stdout",
     "output_type": "stream",
     "text": [
      "8\n",
      "4\n",
      "12\n",
      "3.0\n",
      "End!\n"
     ]
    }
   ],
   "source": [
    "# 常量与变量之间的四则运算\n",
    "data1 = tf.constant(6)\n",
    "data2 = tf.Variable(2)\n",
    "\n",
    "dataAdd = tf.add(data1, data2)\n",
    "dataSub = tf.subtract(data1, data2)\n",
    "dataMul = tf.multiply(data1, data2)\n",
    "dataDiv = tf.divide(data1, data2)\n",
    "\n",
    "init = tf.global_variables_initializer()\n",
    "\n",
    "with tf.Session() as sess:\n",
    "    sess.run(init)\n",
    "    print(sess.run(dataAdd))\n",
    "    print(sess.run(dataSub))\n",
    "    print(sess.run(dataMul))\n",
    "    print(sess.run(dataDiv))\n",
    "print(\"End!\")"
   ]
  },
  {
   "cell_type": "code",
   "execution_count": 7,
   "metadata": {},
   "outputs": [
    {
     "name": "stdout",
     "output_type": "stream",
     "text": [
      "8\n",
      "sess.run(dataCopy) 8\n",
      "dataCopy.eval() 14\n",
      "tf.get_default_session().run(dataCopy) 20\n",
      "End!\n"
     ]
    }
   ],
   "source": [
    "data1 = tf.constant(6)\n",
    "data2 = tf.Variable(2)\n",
    "\n",
    "dataAdd = tf.add(data1, data2)\n",
    "\n",
    "dataCopy = tf.assign(data2, dataAdd)    # 把dataAdd的值，赋给data2，并返回data2的值\n",
    "\n",
    "init = tf.global_variables_initializer()\n",
    "\n",
    "with tf.Session() as sess:\n",
    "    sess.run(init)\n",
    "    print(sess.run(dataAdd))\n",
    "    print(\"sess.run(dataCopy)\", sess.run(dataCopy))    # 把8赋值给data2，然后又调用dataAdd方法，下同\n",
    "    print(\"dataCopy.eval()\", dataCopy.eval())    # .eval()相当于使用默认的会话运行op\n",
    "    print(\"tf.get_default_session().run(dataCopy)\", tf.get_default_session().run(dataCopy))\n",
    "print(\"End!\")"
   ]
  },
  {
   "cell_type": "markdown",
   "metadata": {},
   "source": [
    "## 3. placeholder占位符"
   ]
  },
  {
   "cell_type": "code",
   "execution_count": 8,
   "metadata": {},
   "outputs": [
    {
     "name": "stdout",
     "output_type": "stream",
     "text": [
      "8.0\n",
      "End!\n"
     ]
    }
   ],
   "source": [
    "data1 = tf.placeholder(tf.float32)\n",
    "data2 = tf.placeholder(tf.float32)\n",
    "\n",
    "dataAdd = tf.add(data1,data2)\n",
    "\n",
    "with tf.Session() as sess:\n",
    "    # 参数1：运算之后的张量dataAdd\n",
    "    # 参数2：需要追加的数据，大括号里面的内容源自于dataAdd里面的计算内容，因为有data1和2，所以就有参数1和参数2\n",
    "    print(sess.run(dataAdd,feed_dict={data1:6,data2:2}))\n",
    "    \n",
    "print(\"End!\")"
   ]
  },
  {
   "cell_type": "markdown",
   "metadata": {},
   "source": [
    "## 4. 矩阵运算\n",
    "\n",
    "- m行n列的数组：[]\n",
    "    - []的内部是由若干个[]组成\n",
    "    - 每个内部[]，表示列数据\n",
    "    - 每个中括号作为一个整体，表示行数据\n",
    "    \n",
    "- 例子：定义一个1行2列的矩阵\n",
    "    - 1. 因为是矩阵，所以最外层有一个中括号，[]\n",
    "    - 2. 1行2列，说明行是1，m=1，n=2\n",
    "    - 3. 中括号的整体表示行数，既然m=1，说明外层[]里面只有一个[]，即[[]]\n",
    "    - 4. 中括号里面的内容是数据，既然是n=2，说明内部[]有两个数据，即[[6,6]]"
   ]
  },
  {
   "cell_type": "code",
   "execution_count": 9,
   "metadata": {},
   "outputs": [
    {
     "name": "stdout",
     "output_type": "stream",
     "text": [
      "(3, 2)\n",
      "[[1 2]\n",
      " [3 4]\n",
      " [5 6]]\n",
      "[1 2]\n",
      "[1 3 5]\n",
      "1\n"
     ]
    }
   ],
   "source": [
    "data1 = tf.constant([[6,6]])\n",
    "data2 = tf.constant([[2],\n",
    "                     [2]])\n",
    "data3 = tf.constant([[3,3]])\n",
    "data4 =  tf.constant([[1,2],\n",
    "                      [3,4],\n",
    "                      [5,6]])\n",
    "print(data4.shape)    # 维度\n",
    "\n",
    "# 打印每个矩阵中的内容\n",
    "with tf.Session() as sess:\n",
    "    print(sess.run(data4))    # 打印整体\n",
    "    \n",
    "    # 打印第一行（打印某一行）\n",
    "    print(sess.run(data4[0]))    \n",
    "    # 打印第一列（打印某一列）\n",
    "    print(sess.run(data4[: ,0]))\n",
    "    # 打印第一行第一列\n",
    "    print(sess.run(data4[0,0]))\n"
   ]
  },
  {
   "cell_type": "code",
   "execution_count": 10,
   "metadata": {},
   "outputs": [
    {
     "name": "stdout",
     "output_type": "stream",
     "text": [
      "[[24]]\n",
      "[[9 9]]\n",
      "[[12 12]\n",
      " [12 12]]\n",
      "[array([[24]], dtype=int32), array([[9, 9]], dtype=int32)]\n"
     ]
    }
   ],
   "source": [
    "# 矩阵加法：保证两个矩阵的M*N完全相同\n",
    "# 矩阵乘法：保证第一个矩阵的列数，与第二个矩阵的行数相等\n",
    "data1 = tf.constant([[6,6]])\n",
    "data2 = tf.constant([[2],\n",
    "                     [2]])\n",
    "data3 = tf.constant([[3,3]])\n",
    "data4 = tf.constant([[1,2],\n",
    "                      [3,4],\n",
    "                      [5,6]])\n",
    "\n",
    "matMul = tf.matmul(data1,data2)\n",
    "matMul2 = tf.multiply(data1,data2)\n",
    "matAdd = tf.add(data1,data3)\n",
    "\n",
    "with tf.Session() as sess:\n",
    "    print(sess.run(matMul))    # 1维\n",
    "    print(sess.run(matAdd))    # 1行2列\n",
    "    print(sess.run(matMul2))   # 1x2  2x1  ==  2x2\n",
    "    print(sess.run([matMul, matAdd]))"
   ]
  },
  {
   "cell_type": "markdown",
   "metadata": {},
   "source": [
    "## 5. 特殊矩阵\n",
    "\n",
    "- 全0矩阵\n",
    "- 全1矩阵\n",
    "- 填充矩阵\n",
    "- zeros_like\n",
    "- 均分矩阵\n",
    "- 随机矩阵"
   ]
  },
  {
   "cell_type": "code",
   "execution_count": 11,
   "metadata": {},
   "outputs": [
    {
     "name": "stdout",
     "output_type": "stream",
     "text": [
      "mat0:  [[0 0 0]\n",
      " [0 0 0]]\n",
      "**************************************************\n",
      "mat1:  [[0. 0. 0.]\n",
      " [0. 0. 0.]]\n",
      "**************************************************\n",
      "mat2:  [[1. 1.]\n",
      " [1. 1.]\n",
      " [1. 1.]]\n",
      "**************************************************\n",
      "mat3:  [[15 15 15]\n",
      " [15 15 15]]\n",
      "**************************************************\n",
      "mat5:  [[0]\n",
      " [0]\n",
      " [0]]\n",
      "**************************************************\n",
      "mat6:  [0.        0.2       0.4       0.6       0.8       1.        1.2\n",
      " 1.4       1.6       1.8000001 2.       ]\n",
      "**************************************************\n",
      "mat7:  [[ 1.0609035   1.8896866   0.63799286]\n",
      " [-0.66202986  1.2759719   1.6569796 ]]\n"
     ]
    }
   ],
   "source": [
    "mat0 = tf.constant([[0,0,0],[0,0,0]])\n",
    "\n",
    "mat1 = tf.zeros([2,3])    # 2行3列的全0矩阵\n",
    "\n",
    "mat2 = tf.ones([3,2])     # 3行2列的全1矩阵\n",
    "\n",
    "mat3 = tf.fill([2,3],15)  # 2行3列的填充矩阵（全15矩阵）\n",
    "\n",
    "mat4 = tf.constant([[2],[3],[4]])\n",
    "\n",
    "mat5 = tf.zeros_like(mat4)    # mat5与mat4具有相同的维度的全0矩阵\n",
    "\n",
    "\n",
    "# 把0-2之间的数据分成相等的10份（有11个数据）\n",
    "mat6 = tf.linspace(0.0,2.0,11)\n",
    "# 参数1：起始数值，float32或float64。不能int32\n",
    "# 参数2：终止数值\n",
    "# 参数3：分成多少个数据：份数+1\n",
    "\n",
    "\n",
    "# 随机矩阵\n",
    "mat7 = tf.random_uniform([2,3],-1,2)\n",
    "# 参数1：形状：2行3列\n",
    "# 参数2：起始数\n",
    "# 参数3：终止数\n",
    "\n",
    "\n",
    "with tf.Session() as sess:\n",
    "    print(\"mat0: \", sess.run(mat0))\n",
    "    print(\"*\"*50)\n",
    "    print(\"mat1: \", sess.run(mat1))\n",
    "    print(\"*\"*50)\n",
    "    print(\"mat2: \", sess.run(mat2))\n",
    "    print(\"*\"*50)\n",
    "    print(\"mat3: \", sess.run(mat3))\n",
    "    print(\"*\"*50)\n",
    "    print(\"mat5: \",sess.run(mat5))\n",
    "    print(\"*\"*50)\n",
    "    print(\"mat6: \",sess.run(mat6))\n",
    "    print(\"*\"*50)\n",
    "    print(\"mat7: \",sess.run(mat7))"
   ]
  },
  {
   "cell_type": "markdown",
   "metadata": {},
   "source": [
    "# Numpy 基础"
   ]
  },
  {
   "cell_type": "code",
   "execution_count": 12,
   "metadata": {},
   "outputs": [
    {
     "name": "stdout",
     "output_type": "stream",
     "text": [
      "[1 2 3 4 5] (5,)\n",
      "******************************\n",
      "[[1 2]\n",
      " [3 4]] (2, 2)\n",
      "******************************\n",
      "[[0. 0. 0.]\n",
      " [0. 0. 0.]]\n",
      "******************************\n",
      "[[1. 1.]\n",
      " [1. 1.]]\n",
      "******************************\n",
      "[[1 2]\n",
      " [5 4]]\n",
      "******************************\n",
      "4\n"
     ]
    }
   ],
   "source": [
    "import numpy as np\n",
    "\n",
    "data1 = np.array([1,2,3,4,5])\n",
    "print(data1,data1.shape)\n",
    "\n",
    "print(\"*\" * 30)\n",
    "\n",
    "data2 = np.array([[1,2],[3,4]])\n",
    "print(data2,data2.shape)\n",
    "\n",
    "print(\"*\" * 30)\n",
    "\n",
    "data3 = np.zeros([2,3])\n",
    "print(data3)\n",
    "\n",
    "print(\"*\" * 30)\n",
    "\n",
    "data4 = np.ones([2,2])\n",
    "print(data4)\n",
    "\n",
    "print(\"*\" * 30)\n",
    "\n",
    "# 改，第2行第1列\n",
    "data2[1,0] = 5\n",
    "print(data2)\n",
    "\n",
    "print(\"*\" * 30)\n",
    "\n",
    "# 查，第2行第2列\n",
    "print(data2[1,1])"
   ]
  },
  {
   "cell_type": "code",
   "execution_count": 13,
   "metadata": {},
   "outputs": [
    {
     "name": "stdout",
     "output_type": "stream",
     "text": [
      "[[3. 3.]\n",
      " [3. 3.]]\n",
      "[[-1. -1.]\n",
      " [-1. -1.]]\n",
      "[[2. 2.]\n",
      " [2. 2.]]\n",
      "[[0.5 0.5]\n",
      " [0.5 0.5]]\n"
     ]
    }
   ],
   "source": [
    "# 基本运算:\n",
    "\n",
    "# 对应（依次）相加、减、乘、除\n",
    "print(data4 + 2)\n",
    "print(data4 - 2)\n",
    "print(data4 * 2)\n",
    "print(data4 / 2)"
   ]
  },
  {
   "cell_type": "code",
   "execution_count": 14,
   "metadata": {},
   "outputs": [
    {
     "name": "stdout",
     "output_type": "stream",
     "text": [
      "[[2. 3.]\n",
      " [4. 5.]]\n",
      "[[1. 2.]\n",
      " [3. 4.]]\n"
     ]
    }
   ],
   "source": [
    "# 矩阵运算，\n",
    "# 依次运算\n",
    "data5 = np.array([[1,2],[3,4]])\n",
    "print(data4 + data5)\n",
    "print(data4 * data5)"
   ]
  },
  {
   "cell_type": "markdown",
   "metadata": {},
   "source": [
    "# Matplotlib 基础"
   ]
  },
  {
   "cell_type": "code",
   "execution_count": 16,
   "metadata": {},
   "outputs": [
    {
     "data": {
      "image/png": "[encoded data removed]",
      "text/plain": [
       "<Figure size 432x288 with 1 Axes>"
      ]
     },
     "metadata": {
      "needs_background": "light"
     },
     "output_type": "display_data"
    }
   ],
   "source": [
    "import matplotlib.pyplot as plt\n",
    "import numpy as np\n",
    "\n",
    "x = np.array([1,2,3,4,5,6])\n",
    "y = np.array([4,2,1,7,9,5])\n",
    "\n",
    "plt.plot(x,y,'r',lw=10)    # 绘制折线图\n",
    "# 参数1：x轴\n",
    "# 参数2：y轴\n",
    "# 参数3：折线颜色\n",
    "# 参数4：线宽，可不填\n",
    "\n",
    "\n",
    "a = np.array([1,2,3,4,5,6])\n",
    "b = np.array([14,12,12,1,21,15])\n",
    "plt.bar(a,b,0.5,alpha=1,color=\"b\")\n",
    "# 参数1 \n",
    "# 参数2\n",
    "# 参数3：柱状宽度，按比例分配。若为1，则为直方图\n",
    "# 参数4：透明度\n",
    "# 参数5：颜色\n",
    "plt.show()\n"
   ]
  },
  {
   "cell_type": "markdown",
   "metadata": {},
   "source": [
    "# 案例：神经网络逼近股票收盘均价\n",
    "\n",
    "- 自定义三层神经网络：输入层A -> 隐藏层B -> 输出层C\n",
    "\n",
    "- A为天数（15 x 1），C为每天的预测收盘价（15 x 1）\n",
    "\n",
    "- 传输两次：\n",
    "    - A -> B: \n",
    "        - 自定义：w1的维度(1 x 10)，b1的维度(1 x 10)\n",
    "        - A * w1 + b1 = B\n",
    "    - B -> C:         \n",
    "        - 自定义：w2的维度(10 x 15)，b2的维度(15 x 1)\n",
    "        - B * w2 + b2 = C\n",
    "        \n",
    "- 终止训练：\n",
    "    1. for循环结束，程序终止\n",
    "    2. loss达到一定的控制范围内，程序终止"
   ]
  },
  {
   "cell_type": "code",
   "execution_count": 3,
   "metadata": {},
   "outputs": [
    {
     "data": {
      "image/png": "[encoded data removed]",
      "text/plain": [
       "<Figure size 432x288 with 1 Axes>"
      ]
     },
     "metadata": {
      "needs_background": "light"
     },
     "output_type": "display_data"
    }
   ],
   "source": [
    "import tensorflow as tf\n",
    "import numpy as np\n",
    "import matplotlib.pyplot as plt\n",
    "\n",
    "# part1：显示每日k线图(柱状图)\n",
    "date = np.linspace(1,15,15)    # 15天\n",
    "endPrice = np.array([2511.90,2538.26,2510.68,2591.66,2732.98,2701.69,2701.29,2678.67,2726.50,2681.50,2739.17,2715.07,2823.58,2864.90,2919.08])\n",
    "beginPrice = np.array([2438.71,2500.88,2534.95,2512.52,2594.04,2743.26,2697.47,2695.24,2678.23,2722.13,2674.93,2744.13,2717.46,2832.73,2877.40])\n",
    "\n",
    "plt.figure()  # 绘图\n",
    "\n",
    "for i in range(15):\n",
    "    dateOne = np.zeros([2])    # 第一个日期储存当天开盘价，第二个日期储存当天收盘价\n",
    "    dateOne[0] = date[i]\n",
    "    dateOne[1] = date[i]\n",
    "    priceOne = np.zeros([2])   # 第一个为开盘价，第二个为收盘价\n",
    "    priceOne[0] = beginPrice[i]\n",
    "    priceOne[1] = endPrice[i]\n",
    "    if endPrice[i] > beginPrice[i]:    # 盈利, 显示红色\n",
    "        plt.plot(dateOne,priceOne,'r',lw=8)\n",
    "    else:    # 亏损，显示绿色\n",
    "        plt.plot(dateOne,priceOne,'g',lw=8)\n",
    "\n",
    "# plt.show()    # 横坐标：天数，纵坐标：板块的点数\n",
    "\n",
    "# part2：显示每日预测收盘价的折线图\n",
    "# 日期和价格的归一化\n",
    "dateNormal = np.zeros([15,1])\n",
    "priceNormal = np.zeros([15,1])\n",
    "\n",
    "for i in range(15):\n",
    "    # 需要补上下标，0表示第1列\n",
    "    dateNormal[i,0] = i/14.0    # 最大天数不超过14天\n",
    "    priceNormal[i,0] = endPrice[i]/3000.0    # 最大收盘价不超过3000\n",
    "\n",
    "# 数据装载的方式\n",
    "x = tf.placeholder(tf.float32, [None,1])    # 输入，15行1列\n",
    "y = tf.placeholder(tf.float32, [None,1])\n",
    "\n",
    "# A -> B，实现隐藏层\n",
    "w1 = tf.Variable(tf.random_uniform([1,10],0,1))    # 自定义第一层的权重，维度1x10，取值[0,1]\n",
    "b1 = tf.Variable(tf.zeros([1,10]))                 # 自定义第一层的偏置，维度1x10\n",
    "\n",
    "wb1 = tf.matmul(x,w1) + b1    # 维度：(15x1) * (1x10) + (1x10) = (15x10)\n",
    "layer1 = tf.nn.relu(wb1)      # 激活函数\n",
    "\n",
    "# B -> C，实现输出层\n",
    "w2 = tf.Variable(tf.random_uniform([10,1],0,1))    # 自定义第二层的权重，维度10x1，取值[0,1]\n",
    "b2 = tf.Variable(tf.zeros([15,1]))                   # 自定义第二层的偏置，维度15x1\n",
    "\n",
    "wb2 = tf.matmul(layer1, w2) + b2    # 维度：(15x10) * (10x1) + (15x1) = (15x1)\n",
    "layer2 = tf.nn.relu(wb2)\n",
    "\n",
    "# 均方误差，计算标准差\n",
    "loss = tf.reduce_mean(tf.square(y - layer2))\n",
    "\n",
    "# 使用梯度下降，减小误差loss。同时调整两个权重和偏置\n",
    "# 每次调整的步长：每次下降0.1，目的是为了减小当前的loss：真实值与预测值之间的差值\n",
    "train_step = tf.train.GradientDescentOptimizer(0.1).minimize(loss)\n",
    "\n",
    "with tf.Session() as sess:\n",
    "    \n",
    "    sess.run(tf.global_variables_initializer())    # 变量初始化\n",
    "    \n",
    "    for i in range(10000):\n",
    "        sess.run(train_step,feed_dict={x:dateNormal,y:priceNormal})    # 训练完成后，得到w1,b1,w2,b2\n",
    "        \n",
    "    # 绘制预测结果: 判断是否准确，即predict与priceNormal(y)比较\n",
    "    predNormal = sess.run(layer2, feed_dict={x:dateNormal})    # 归一化的价格\n",
    "    \n",
    "    predict_price = np.zeros([15,1])\n",
    "    # 还原15天的实际(去归一化)预测价格：\n",
    "    for i in range(15):\n",
    "        predict_price[i,0] = (predNormal*3000)[i,0] \n",
    "    plt.plot(date, predict_price,'b',lw=1)\n",
    "    \n",
    "# plt.show()"
   ]
  },
  {
   "cell_type": "code",
   "execution_count": null,
   "metadata": {},
   "outputs": [],
   "source": []
  }
 ],
 "metadata": {
  "kernelspec": {
   "display_name": "Python 3",
   "language": "python",
   "name": "python3"
  },
  "language_info": {
   "codemirror_mode": {
    "name": "ipython",
    "version": 3
   },
   "file_extension": ".py",
   "mimetype": "text/x-python",
   "name": "python",
   "nbconvert_exporter": "python",
   "pygments_lexer": "ipython3",
   "version": "3.6.6"
  }
 },
 "nbformat": 4,
 "nbformat_minor": 2
}
