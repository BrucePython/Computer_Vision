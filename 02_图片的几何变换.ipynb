{
 "cells": [
  {
   "cell_type": "markdown",
   "metadata": {},
   "source": [
    "# 图片的几何变换\n",
    "\n",
    "- 计算机高级视觉处理的基础，对图片数据的矩阵操作\n",
    "    - 实质：矩阵操作\n",
    "    - 给矩阵不同的系数，完成不同的运算符方式\n",
    "    \n",
    "- 图片缩放\n",
    "    - 改变图片的高宽，放大/缩小\n",
    "    \n",
    "- 图片剪切\n",
    "    - 截取矩阵中的某一块\n",
    "    \n",
    "- 图片位移\n",
    "    - 移动图片的x,y\n",
    "    \n",
    "- 图片镜像\n",
    "    - 创建一个更大的矩阵，将原图倒序绘制一次\n",
    "    \n",
    "- 图片仿射变换：\n",
    "    - 位移、旋转、缩放  "
   ]
  },
  {
   "cell_type": "code",
   "execution_count": 1,
   "metadata": {},
   "outputs": [],
   "source": [
    "import cv2\n",
    "import numpy as np\n",
    "img = cv2.imread(\"./eunha.jpg\")\n",
    "\n",
    "height = img.shape[0]\n",
    "width = img.shape[1]\n",
    "channel = img.shape[2]"
   ]
  },
  {
   "cell_type": "markdown",
   "metadata": {},
   "source": [
    "# 1. 图片缩放\n",
    "\n",
    "\n",
    "- 4种常见图片缩放方法：\n",
    "    - 最近临域插值\n",
    "    - 双线性插值\n",
    "    - 像素关系重采样\n",
    "    - 立方插值\n",
    "    \n",
    "- API：resize\n",
    "\n",
    "- 算法原理\n",
    "    - 最近临域插值\n",
    "    - 双线性插值\n",
    "    \n",
    "- 源码\n",
    "    - 最近临域插值"
   ]
  },
  {
   "cell_type": "code",
   "execution_count": 3,
   "metadata": {},
   "outputs": [],
   "source": [
    "# 放大/缩小 ; 等比例/非等比例\n",
    "dstHeight = int(height*0.5)\n",
    "dstWidth = int(width*0.5)\n",
    "\n",
    "\n",
    "# 双线性插值：\n",
    "dst = cv2.resize(img,(dstWidth,dstHeight))\n",
    "\n",
    "cv2.imshow(\"img\", img)\n",
    "cv2.imshow(\"resize\",dst)\n",
    "cv2.waitKey(10000)\n",
    "cv2.destroyAllWindows() "
   ]
  },
  {
   "cell_type": "markdown",
   "metadata": {},
   "source": [
    "## 1.1 最近临域插值原理：\n",
    "\n",
    "- 原图像scr的维度(10x20)，目标图像dst的维度(5x10)\n",
    "\n",
    "- 公式：\n",
    "    - src_x = dst_x * (scr行数 / dst行数)\n",
    "    - src_y = dst_y * (scr列数 / dst列数)\n",
    "\n",
    "- 例：计算目标图像点dst(1,2)对应原图像scr的点(x,y)\n",
    "    - src_x = dst_x * (scr行数 / dst行数) = 1 * (10/5) = 2\n",
    "    - src_y = dst_y * (scr列数 / dst列数) = 2 * (20/10) = 4\n",
    "    - 目标图像点(1,2)对应原图像像素点(2,4)\n",
    "    - 若计算结果为12.3，则取最近值12，最近临域插值法\n",
    "    \n",
    "\n",
    "## 1.2 双线性插值原理：\n",
    "\n",
    "- 目标点为(15.2,22.3)\n",
    "- 在(15,22), (15,23), (16,22), (16,23)围成的矩形\n",
    "- 使用权重表示目标点零件"
   ]
  },
  {
   "cell_type": "code",
   "execution_count": 4,
   "metadata": {},
   "outputs": [],
   "source": [
    "# 使用源码完成最近领域插值法：\n",
    "\n",
    "dstImage = np.zeros([dstHeight, dstWidth, 3], np.uint8)    # 创建空白模板\n",
    "for i in range(dstHeight):\n",
    "    for j in range(dstWidth):\n",
    "        iNew = int(i*(height*1.0/dstHeight))    # 转换数据类型：乘以1.0\n",
    "        jNew = int(j*(width*1.0/dstWidth))\n",
    "        dstImage[i,j] = img[iNew,jNew]\n",
    "\n",
    "cv2.imshow(\"img\", img)\n",
    "cv2.imshow(\"dst\",dstImage)\n",
    "cv2.waitKey(10000)\n",
    "cv2.destroyAllWindows() "
   ]
  },
  {
   "cell_type": "markdown",
   "metadata": {},
   "source": [
    "# 2. 图片剪切"
   ]
  },
  {
   "cell_type": "code",
   "execution_count": 5,
   "metadata": {},
   "outputs": [],
   "source": [
    "# x轴：保留100 -> 200\n",
    "# y轴：保留100 -> 300\n",
    "\n",
    "dst = img[100:200, 100:300]\n",
    "\n",
    "cv2.imshow(\"img\", img)\n",
    "cv2.imshow(\"image\", dst)\n",
    "cv2.waitKey(10000)\n",
    "cv2.destroyAllWindows() "
   ]
  },
  {
   "cell_type": "markdown",
   "metadata": {},
   "source": [
    "# 3. 图片镜像\n",
    "\n",
    "1. 创建一个足够大的画板\n",
    "    - 宽度一致，高度为原图的两倍\n",
    "2. 将一副图像分别从前向后，从后向前绘制\n",
    "3. 绘制中心分割线"
   ]
  },
  {
   "cell_type": "code",
   "execution_count": 8,
   "metadata": {},
   "outputs": [],
   "source": [
    "mirror_img = np.zeros((height*2, width, channel), np.uint8)\n",
    "\n",
    "for y in range(height):\n",
    "    for x in range(width):\n",
    "        mirror_img[y,x] = img[y,x]                # 上半部分：从前往后\n",
    "        mirror_img[height*2 - y - 1, x] = img[y,x]    # 下半部分，从后往前\n",
    "\n",
    "for i in range(width):\n",
    "    mirror_img[height,i] = (0,0,255) #bgr\n",
    "    \n",
    "\n",
    "cv2.imshow(\"img\", img)\n",
    "cv2.imshow(\"mirror\", mirror_img)\n",
    "cv2.waitKey(10000)\n",
    "cv2.destroyAllWindows()"
   ]
  },
  {
   "cell_type": "markdown",
   "metadata": {},
   "source": [
    "# 4. 仿射变换：\n",
    "\n",
    "- 原理\n",
    "    - 仿射变换是指，在向量空间中进行一次线性变换(乘以一个矩阵)并加上一个平移(加上一个向量)，变换为另一个向量空间的过程。\n",
    "\n",
    "- 例：\n",
    "    - 把原图片上的三个像素点，映射到目标图片的三个新的位置上。\n",
    "        - 三个位置：左上角，左下角，右上角\n",
    "        - src 3点 --> dst 3点\n",
    "\n",
    "- 放射变换的应用\n",
    "    - 4.1 位移\n",
    "    - 4.2 缩放\n",
    "    - 4.3 旋转"
   ]
  },
  {
   "cell_type": "code",
   "execution_count": 2,
   "metadata": {},
   "outputs": [],
   "source": [
    "matSrc = np.float32([[0,0],[0,height-1],[width-1,0]])             # 原图片上的3个点：左上，左下，右上\n",
    "matDst = np.float32([[50,50],[300,height-200 ],[width-300,100]])    # 映射到目标图片的3个点\n",
    "\n",
    "# 组合矩阵\n",
    "matAffine = cv2.getAffineTransform(matSrc, matDst)    # 获取放射变换矩阵：参数1：原图像的三个点，参数2：目标图像的三个点\n",
    "\n",
    "# 使用仿射变换，显示图片\n",
    "dst = cv2.warpAffine(img, matAffine, (width,height))\n",
    "\n",
    "cv2.imshow(\"img\", img)\n",
    "cv2.imshow('dst',dst)\n",
    "cv2.waitKey(10000)\n",
    "cv2.destroyAllWindows()"
   ]
  },
  {
   "cell_type": "markdown",
   "metadata": {},
   "source": [
    "## 4.1 图片移位\n",
    "\n",
    "\n",
    "- API，算法原理，源代码\n",
    "\n",
    "\n",
    "- 算法原理：\n",
    "    - [[A1,A2,B1],[A3,A4,B2]]\n",
    "        - 拆分：[[A1,A2],[A3,A4]],[[B1],[B2]]\n",
    "        - 输入:[[x],[y]]\n",
    "        - newX = A1 * x + A2 * y + B1\n",
    "        - newY = A3 * x + A4 * y + B2\n",
    "        \n",
    "    - 将2x3的矩阵：[[1,0,100],[0,1,200]]，拆分成A和B\n",
    "        - A = [[1,0],[0,1]]  2x2\n",
    "        - B = [[100],[200]]  2x1\n",
    "        - 输入的xy为C，\n",
    "            - C = [[x],[y]]  2x1\n",
    "        - 计算公式：\n",
    "            - 当前移位之后的矩阵: A x C + B = [[1,0],[0,1]] * [[x],[y]] + [[100],[200]] \n",
    "                                         = [[x],[y]] + [[100],[200]]\n",
    "                                         = [[x+100],[y+200]]"
   ]
  },
  {
   "cell_type": "code",
   "execution_count": 6,
   "metadata": {},
   "outputs": [],
   "source": [
    "# 设置一个移位矩阵\n",
    "matShift = np.float32([[1,0,100],[0,1,200]])    # 2x3，沿水平方向移动100个像素，竖直方向移动200个像素\n",
    "dst = cv2.warpAffine(img, matShift,(width, height))\n",
    "# 仿射方法：参数1：原数据，参数2：位移矩阵，参数3：原数据形状（x轴width，y轴height）\n",
    "\n",
    "cv2.imshow(\"img\", img)\n",
    "cv2.imshow(\"dst\", dst)\n",
    "cv2.waitKey(10000)\n",
    "cv2.destroyAllWindows() "
   ]
  },
  {
   "cell_type": "code",
   "execution_count": 7,
   "metadata": {},
   "outputs": [],
   "source": [
    "# 通过像素实现移动（源码）\n",
    "# 将图片每一个点的坐标xy，经过映射之后，投影到新的xy坐标\n",
    "# (10,20) --> (210,120)\n",
    "\n",
    "# 定义空矩阵\n",
    "dst = np.zeros(img.shape, np.uint8)\n",
    "\n",
    "for i in range(height-200):           # 让图片向下移200个像素\n",
    "    for j in range(width-100):    # 让图片向右移100个像素，原图最后100个像素不显示\n",
    "        dst[i+200,j+100] = img[i,j]\n",
    "\n",
    "cv2.imshow(\"img\", img)\n",
    "cv2.imshow(\"dst\", dst)\n",
    "cv2.waitKey(10000)\n",
    "cv2.destroyAllWindows() "
   ]
  },
  {
   "cell_type": "markdown",
   "metadata": {},
   "source": [
    "## 4.2 图片缩放\n",
    "\n",
    "- 要求\n",
    "    - x -> 0.5x\n",
    "    - y -> 0.5y\n",
    "- 方法：\n",
    "    - [[0.5,0,0],[0,0.5,0]]\n",
    "    - 拆分：[[0.5, 0],[0, 0.5]]和[[0],[0]]\n",
    "    - 输入:[[x],[y]]\n",
    "    - newX = 0.5 * x + 0 * y + 0\n",
    "    - newY = 0 * x + 0.5 * y + 0"
   ]
  },
  {
   "cell_type": "code",
   "execution_count": null,
   "metadata": {},
   "outputs": [],
   "source": [
    "# 定义一个缩放矩阵\n",
    "mat_scale = np.float32([[0.5,0,0],[0,0.5,0]])\n",
    "dst = cv2.warpAffine(img, mat_scale,(int(width/2), int(height/2)))\n",
    "\n",
    "cv2.imshow(\"img\", img)\n",
    "cv2.imshow(\"small\", dst)\n",
    "cv2.waitKey(10000)\n",
    "cv2.destroyAllWindows()"
   ]
  },
  {
   "cell_type": "markdown",
   "metadata": {},
   "source": [
    "## 4.3 图片旋转"
   ]
  },
  {
   "cell_type": "code",
   "execution_count": 7,
   "metadata": {},
   "outputs": [],
   "source": [
    "# 获取旋转矩阵：\n",
    "matRotation = cv2.getRotationMatrix2D((width*0.5,height*0.5), 45, 0.5)\n",
    "# matRotation = cv2.getRotationMatrix2D((height*0.5, width*0.5), 45, 0.5)\n",
    "\n",
    "# 参数1：旋转的中心点\n",
    "# 参数2：旋转的角度\n",
    "# 参数3：缩放的系数\n",
    "\n",
    "# 调用仿射方法，完成仿射变换：\n",
    "dst = cv2.warpAffine(img, matRotation,(width, height))\n",
    "\n",
    "\n",
    "cv2.imshow(\"img\", img)\n",
    "cv2.imshow('dst',dst)\n",
    "cv2.waitKey(10000)\n",
    "cv2.destroyAllWindows()"
   ]
  }
 ],
 "metadata": {
  "kernelspec": {
   "display_name": "Python 3",
   "language": "python",
   "name": "python3"
  },
  "language_info": {
   "codemirror_mode": {
    "name": "ipython",
    "version": 3
   },
   "file_extension": ".py",
   "mimetype": "text/x-python",
   "name": "python",
   "nbconvert_exporter": "python",
   "pygments_lexer": "ipython3",
   "version": "3.6.6"
  }
 },
 "nbformat": 4,
 "nbformat_minor": 2
}
